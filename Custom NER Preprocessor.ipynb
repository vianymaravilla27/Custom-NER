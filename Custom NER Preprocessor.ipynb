{
 "cells": [
  {
   "cell_type": "code",
   "execution_count": 1,
   "metadata": {},
   "outputs": [],
   "source": [
    "import pandas as pd\n",
    "from bs4 import BeautifulSoup\n",
    "import ast\n",
    "import nltk\n",
    "from nltk.tokenize import word_tokenize\n",
    "\n",
    "\n",
    "lis1 = []\n",
    "df = pd.read_csv('indeed_resumes.csv',  error_bad_lines=False)\n",
    "df.columns = ['0','url','tag1','tag2','tag3','tag4','tag5','tag6','tag7','tag8','tag9','tag10','tag11']\n",
    "df =df.dropna()"
   ]
  },
  {
   "cell_type": "code",
   "execution_count": 2,
   "metadata": {},
   "outputs": [],
   "source": [
    "for i in range(len(df)):\n",
    "    soup = BeautifulSoup(df['tag11'].iloc[i])\n",
    "    text = soup.get_text(separator=u' ')\n",
    "    lis1.append(text) #full sentence in a list\n"
   ]
  },
  {
   "cell_type": "code",
   "execution_count": 3,
   "metadata": {},
   "outputs": [],
   "source": [
    "li = []\n",
    "for i in range(len(df)):\n",
    "    soup = BeautifulSoup(df['tag5'].iloc[i])\n",
    "    text = soup.get_text(separator=u' ')\n",
    "    li.append(text) #full tags in a list\n"
   ]
  },
  {
   "cell_type": "code",
   "execution_count": 4,
   "metadata": {},
   "outputs": [],
   "source": [
    "sp = BeautifulSoup(ast.literal_eval(df['tag5'][0])[1]['school'])\n",
    "tes = []\n",
    "tes =  sp.get_text().split(\" \") #tester"
   ]
  },
  {
   "cell_type": "code",
   "execution_count": 5,
   "metadata": {},
   "outputs": [],
   "source": [
    "#not working in loop\n",
    "from nltk.corpus import stopwords \n",
    "stop_words = set(stopwords.words('english')) \n",
    "fin = []\n",
    "for i in range(len(df)): \n",
    "    l1 = lis1[i].split(\" \") #each sentence in a list\n",
    "    l2 = [0 for j in range(len(l1))]    #labels\n",
    "    l3 = []\n",
    "    l4 = []\n",
    "    l5 = []\n",
    "    \n",
    "    for j in range(3):\n",
    "        try:\n",
    "            t1 = BeautifulSoup(ast.literal_eval(df['tag5'].values[i])[j]['title'])\n",
    "            l3.extend(word_tokenize(t1.get_text()))\n",
    "            t2 = BeautifulSoup(ast.literal_eval(df['tag5'].values[i])[j]['school'])\n",
    "            l4.extend(word_tokenize(t2.get_text()))\n",
    "            t3 = BeautifulSoup(ast.literal_eval(df['tag5'].values[i])[j]['duration'])\n",
    "            l5.extend(word_tokenize(t3.get_text()))\n",
    "            #print(l3)\n",
    "        except:\n",
    "            #print(i)\n",
    "            continue\n",
    "    #print(l3,l4,l5)\n",
    "    for k in range(1,len(l1)):\n",
    "        if (l1[k] not in stop_words):\n",
    "            if(l1[k] in ['-',':','(',')','.',',']):\n",
    "                continue\n",
    "            else:\n",
    "                if(l1[k] in l3):\n",
    "                    l2[k]='Degree'\n",
    "                elif(l1[k] in l4):\n",
    "                    l2[k]='Institute'\n",
    "                elif(l1[k] in l5):\n",
    "                    l2[k]='Time'\n",
    "    fin.extend(list(zip(l1,l2)))\n",
    "    #print(l2)\n",
    "#fin = list(zip(l1,l2))\n",
    "#print(l1)\n",
    "#print(word_tokenize(t1.get_text()))\n",
    "#for m in fin:\n",
    "#    print(m)\n"
   ]
  },
  {
   "cell_type": "code",
   "execution_count": 6,
   "metadata": {},
   "outputs": [],
   "source": [
    "import csv\n",
    "\n",
    "with open('output.tsv', 'wt') as out_file:\n",
    "    tsv_writer = csv.writer(out_file, delimiter='\\t')\n",
    "    tsv_writer.writerow(['name', 'label'])\n",
    "    for m in fin:\n",
    "        tsv_writer.writerow([m[0],m[1]])\n",
    "    "
   ]
  },
  {
   "cell_type": "code",
   "execution_count": null,
   "metadata": {},
   "outputs": [],
   "source": []
  }
 ],
 "metadata": {
  "kernelspec": {
   "display_name": "Python 3",
   "language": "python",
   "name": "python3"
  },
  "language_info": {
   "codemirror_mode": {
    "name": "ipython",
    "version": 3
   },
   "file_extension": ".py",
   "mimetype": "text/x-python",
   "name": "python",
   "nbconvert_exporter": "python",
   "pygments_lexer": "ipython3",
   "version": "3.7.1"
  }
 },
 "nbformat": 4,
 "nbformat_minor": 2
}
